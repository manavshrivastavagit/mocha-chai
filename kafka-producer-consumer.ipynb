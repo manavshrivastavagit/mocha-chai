{
 "cells": [
  {
   "cell_type": "code",
   "execution_count": 2,
   "metadata": {
    "scrolled": true
   },
   "outputs": [
    {
     "ename": "SyntaxError",
     "evalue": "invalid syntax (<ipython-input-2-a321e1f8e9ac>, line 1)",
     "output_type": "error",
     "traceback": [
      "\u001b[0;36m  File \u001b[0;32m\"<ipython-input-2-a321e1f8e9ac>\"\u001b[0;36m, line \u001b[0;32m1\u001b[0m\n\u001b[0;31m    pip install kafka-python\u001b[0m\n\u001b[0m              ^\u001b[0m\n\u001b[0;31mSyntaxError\u001b[0m\u001b[0;31m:\u001b[0m invalid syntax\n"
     ]
    }
   ],
   "source": [
    "# pip install kafka-python"
   ]
  },
  {
   "cell_type": "code",
   "execution_count": 1,
   "metadata": {},
   "outputs": [
    {
     "name": "stdout",
     "output_type": "stream",
     "text": [
      "produced_message: 0\n",
      "produced_message: 1\n",
      "produced_message: 2\n",
      "produced_message: 3\n",
      "produced_message: 4\n",
      "produced_message: 5\n",
      "produced_message: 6\n",
      "produced_message: 7\n",
      "produced_message: 8\n",
      "produced_message: 9\n",
      "produced_message: 10\n",
      "produced_message: 11\n",
      "produced_message: 12\n",
      "produced_message: 13\n",
      "produced_message: 14\n",
      "produced_message: 15\n",
      "produced_message: 16\n",
      "produced_message: 17\n",
      "produced_message: 18\n",
      "produced_message: 19\n",
      "produced_message: 20\n",
      "produced_message: 21\n",
      "produced_message: 22\n",
      "produced_message: 23\n",
      "produced_message: 24\n",
      "produced_message: 25\n",
      "produced_message: 26\n",
      "produced_message: 27\n",
      "produced_message: 28\n",
      "produced_message: 29\n",
      "produced_message: 30\n",
      "produced_message: 31\n",
      "produced_message: 32\n",
      "produced_message: 33\n",
      "produced_message: 34\n",
      "produced_message: 35\n",
      "produced_message: 36\n",
      "produced_message: 37\n",
      "produced_message: 38\n",
      "produced_message: 39\n",
      "produced_message: 40\n",
      "produced_message: 41\n",
      "produced_message: 42\n",
      "produced_message: 43\n",
      "produced_message: 44\n",
      "produced_message: 45\n",
      "produced_message: 46\n",
      "produced_message: 47\n",
      "produced_message: 48\n",
      "produced_message: 49\n",
      "produced_message: 50\n",
      "produced_message: 51\n",
      "produced_message: 52\n",
      "produced_message: 53\n",
      "produced_message: 54\n",
      "produced_message: 55\n",
      "produced_message: 56\n",
      "produced_message: 57\n",
      "produced_message: 58\n",
      "produced_message: 59\n",
      "produced_message: 60\n",
      "produced_message: 61\n",
      "produced_message: 62\n",
      "produced_message: 63\n",
      "produced_message: 64\n",
      "produced_message: 65\n",
      "produced_message: 66\n"
     ]
    },
    {
     "ename": "KeyboardInterrupt",
     "evalue": "",
     "output_type": "error",
     "traceback": [
      "\u001b[0;31m---------------------------------------------------------------------------\u001b[0m",
      "\u001b[0;31mKeyboardInterrupt\u001b[0m                         Traceback (most recent call last)",
      "\u001b[0;32m<ipython-input-1-9f9e75c508c1>\u001b[0m in \u001b[0;36m<module>\u001b[0;34m()\u001b[0m\n\u001b[1;32m     20\u001b[0m         \u001b[0mproduce_message\u001b[0m\u001b[0;34m(\u001b[0m\u001b[0mstr\u001b[0m\u001b[0;34m(\u001b[0m\u001b[0mcounter\u001b[0m\u001b[0;34m)\u001b[0m\u001b[0;34m)\u001b[0m\u001b[0;34m\u001b[0m\u001b[0m\n\u001b[1;32m     21\u001b[0m         \u001b[0mprint\u001b[0m\u001b[0;34m(\u001b[0m\u001b[0;34mf'produced_message: {counter}'\u001b[0m\u001b[0;34m)\u001b[0m\u001b[0;34m\u001b[0m\u001b[0m\n\u001b[0;32m---> 22\u001b[0;31m         \u001b[0msleep\u001b[0m\u001b[0;34m(\u001b[0m\u001b[0;36m1\u001b[0m\u001b[0;34m)\u001b[0m\u001b[0;34m\u001b[0m\u001b[0m\n\u001b[0m\u001b[1;32m     23\u001b[0m         \u001b[0mcounter\u001b[0m \u001b[0;34m+=\u001b[0m \u001b[0;36m1\u001b[0m\u001b[0;34m\u001b[0m\u001b[0m\n",
      "\u001b[0;31mKeyboardInterrupt\u001b[0m: "
     ]
    }
   ],
   "source": [
    "# producer.py\n",
    "\n",
    "from time import sleep\n",
    "\n",
    "from kafka import KafkaProducer\n",
    "\n",
    "producer = KafkaProducer(bootstrap_servers='localhost:9093')\n",
    "\n",
    "\n",
    "def produce_message(message: str):\n",
    "    producer.send('newtopic', message.encode('utf-8'))\n",
    "    # flush the message buffer to force message delivery to broker on each iteration\n",
    "    producer.flush()\n",
    "\n",
    "\n",
    "if __name__ == '__main__':\n",
    "\n",
    "    counter = 0\n",
    "    while True:\n",
    "        produce_message(str(counter))\n",
    "        print(f'produced_message: {counter}')\n",
    "        sleep(1)\n",
    "        counter += 1"
   ]
  },
  {
   "cell_type": "code",
   "execution_count": null,
   "metadata": {},
   "outputs": [],
   "source": [
    "# iterator.py\n",
    "\n",
    "from kafka import KafkaConsumer\n",
    "\n",
    "consumer = KafkaConsumer('newtopic', bootstrap_servers=['localhost:9093'], group_id='group-1')\n",
    "\n",
    "\n",
    "def consume_messages():\n",
    "    for message in consumer:\n",
    "        # do processing of message\n",
    "        print(message.value)\n",
    "\n",
    "\n",
    "if __name__ == '__main__':\n",
    "    consume_messages()"
   ]
  },
  {
   "cell_type": "code",
   "execution_count": null,
   "metadata": {},
   "outputs": [],
   "source": []
  }
 ],
 "metadata": {
  "kernelspec": {
   "display_name": "Python 3",
   "language": "python",
   "name": "python3"
  },
  "language_info": {
   "codemirror_mode": {
    "name": "ipython",
    "version": 3
   },
   "file_extension": ".py",
   "mimetype": "text/x-python",
   "name": "python",
   "nbconvert_exporter": "python",
   "pygments_lexer": "ipython3",
   "version": "3.6.3"
  }
 },
 "nbformat": 4,
 "nbformat_minor": 2
}
